{
 "cells": [
  {
   "cell_type": "markdown",
   "metadata": {},
   "source": [
    "# **Applying Outer Evaluation** "
   ]
  },
  {
   "cell_type": "markdown",
   "metadata": {},
   "source": [
    "## **Requirements**"
   ]
  },
  {
   "cell_type": "markdown",
   "metadata": {},
   "source": [
    "Here we gather the required libraries, classes and function for this notebook."
   ]
  },
  {
   "cell_type": "code",
   "execution_count": 5,
   "metadata": {},
   "outputs": [],
   "source": [
    "import polars as pl\n",
    "import numpy as np\n",
    "import os\n",
    "import sys\n",
    "import pickle\n",
    "import matplotlib.pyplot as plt\n",
    "import seaborn as sns\n",
    "sns.set_style('whitegrid')\n",
    "from sklearn.model_selection import train_test_split\n",
    "from sklearn.pipeline import Pipeline\n",
    "from sklearn.neural_network import MLPClassifier\n",
    "from sklearn.metrics import accuracy_score\n",
    "from xgboost import XGBClassifier\n",
    "from lightgbm import LGBMClassifier\n",
    "from sklearn.linear_model import LogisticRegression\n",
    "from sklearn.neighbors import KNeighborsClassifier\n",
    "from sklearn.tree import DecisionTreeClassifier\n",
    "from sklearn.ensemble import RandomForestClassifier, HistGradientBoostingClassifier, ExtraTreesClassifier\n",
    "from sklearn.svm import LinearSVC, SVC\n",
    "from sklearn.neural_network import MLPClassifier\n",
    "from xgboost import XGBClassifier\n",
    "from sklearn.metrics import accuracy_score, confusion_matrix, ConfusionMatrixDisplay, f1_score"
   ]
  },
  {
   "cell_type": "markdown",
   "metadata": {},
   "source": [
    "`PyImageML` is a Python package that has been developed under this project, which has several utils for plotting images and extracting features from them, features that later could be used along with Machine Learning algorithms to solve typical ML tasks.\n"
   ]
  },
  {
   "cell_type": "code",
   "execution_count": 6,
   "metadata": {},
   "outputs": [],
   "source": [
    "sys.path.insert(0, r\"C:\\Users\\fscielzo\\Documents\\Packages\\PyImageML_Package_Private\")\n",
    "from PyImageML.preprocessing import ImageFeaturesExtraction"
   ]
  },
  {
   "cell_type": "markdown",
   "metadata": {},
   "source": [
    "`PyMachineLearning` is another custom Python package that contains efficient utils to be used in real Machine Learning workflows."
   ]
  },
  {
   "cell_type": "code",
   "execution_count": 7,
   "metadata": {},
   "outputs": [],
   "source": [
    "sys.path.insert(0, r'C:\\Users\\fscielzo\\Documents\\Packages\\PyMachineLearning_Package_Private')\n",
    "from PyMachineLearning.preprocessing import scaler, pca"
   ]
  },
  {
   "cell_type": "markdown",
   "metadata": {},
   "source": [
    "## **Reading the data**"
   ]
  },
  {
   "cell_type": "markdown",
   "metadata": {},
   "source": [
    "In this section we are going to read an process the data a little bit."
   ]
  },
  {
   "cell_type": "markdown",
   "metadata": {},
   "source": [
    "- `files_list.txt` is a txt file with two 'columns', the first one with the old paths of the images of the data-set, and the second with the images class (neutral (0) or fire (1)).\n",
    "\n",
    "-  We read `files_list.txt as a data-frame.\n",
    "\n",
    "- We extract the names of the images files.\n",
    "\n",
    "- We build a list with the new path of the images."
   ]
  },
  {
   "cell_type": "code",
   "execution_count": 8,
   "metadata": {},
   "outputs": [],
   "source": [
    "# Extracting the names of the images files as well as their class/category.\n",
    "files_list_name = r'C:\\Users\\fscielzo\\Documents\\DataScience-GitHub\\Image Analysis\\Image-Classification\\Fire-Detection\\files_list.txt'\n",
    "files_df = pl.read_csv(files_list_name, separator='\\t', has_header=False, new_columns=['path', 'class'])\n",
    "img_files_names = [files_df['path'][i].split('/')[1] for i in range(len(files_df))]\n",
    "\n",
    "# building a list with the current paths of the data-set images.\n",
    "img_path_list = []\n",
    "folder_path = r'C:\\Users\\fscielzo\\Documents\\DataScience-GitHub\\Image Analysis\\Image-Classification\\Fire-Detection\\Data'\n",
    "for filename in img_files_names:\n",
    "    img_path_list.append(os.path.join(folder_path, filename))"
   ]
  },
  {
   "cell_type": "markdown",
   "metadata": {},
   "source": [
    "## **Defining Response and Predictors**"
   ]
  },
  {
   "cell_type": "markdown",
   "metadata": {},
   "source": [
    "In this section we define the response and predictors.\n",
    "\n",
    "- **Predictors:** a list with the paths of the images files.\n",
    "- **Response:** a vector (1D array) that identify the category of each image.\n"
   ]
  },
  {
   "cell_type": "code",
   "execution_count": 9,
   "metadata": {},
   "outputs": [],
   "source": [
    "Y = files_df['class'].to_numpy()\n",
    "X = img_path_list "
   ]
  },
  {
   "cell_type": "markdown",
   "metadata": {},
   "source": [
    "## **Defining the outer validation method**"
   ]
  },
  {
   "cell_type": "markdown",
   "metadata": {},
   "source": [
    "### **Train-Test Split**"
   ]
  },
  {
   "cell_type": "code",
   "execution_count": 10,
   "metadata": {},
   "outputs": [],
   "source": [
    "X_train, X_test, Y_train, Y_test = train_test_split(X, Y, test_size=0.25, random_state=123, stratify=Y)"
   ]
  },
  {
   "cell_type": "markdown",
   "metadata": {},
   "source": [
    "## **Defining the pipelines**"
   ]
  },
  {
   "cell_type": "code",
   "execution_count": 11,
   "metadata": {},
   "outputs": [],
   "source": [
    "CELLS_PER_BLOCK_HOR = 2\n",
    "CELLS_PER_BLOCK_VER = 2\n",
    "PIXELS_PER_CELL_HOR = 8\n",
    "PIXELS_PER_CELL_VER = 8\n",
    "orientations = 8\n",
    "pixels_per_cell=(PIXELS_PER_CELL_HOR, PIXELS_PER_CELL_VER)\n",
    "cells_per_block=(CELLS_PER_BLOCK_HOR, CELLS_PER_BLOCK_VER)\n",
    "\n",
    "img_height = 240\n",
    "img_width = 184"
   ]
  },
  {
   "cell_type": "code",
   "execution_count": 12,
   "metadata": {},
   "outputs": [],
   "source": [
    "pipelines = {} \n",
    "\n",
    "models = {'knn': KNeighborsClassifier(n_jobs=-1), \n",
    "          'trees': DecisionTreeClassifier(random_state=123), \n",
    "          'extra_trees': ExtraTreesClassifier(random_state=123),\n",
    "          'RF': RandomForestClassifier(random_state=123), \n",
    "          'HGB': HistGradientBoostingClassifier(random_state=123), \n",
    "          'MLP': MLPClassifier(random_state=123),\n",
    "          'LinearSVM': LinearSVC(random_state=123),  \n",
    "          'XGB': XGBClassifier(random_state=123),\n",
    "          'Logistic': LogisticRegression(max_iter=250, solver='saga', random_state=123),\n",
    "          'LGBM': LGBMClassifier(random_state=123, verbose=-1),\n",
    "          'SVM': SVC(random_state=123)\n",
    "}\n",
    "\n",
    "for model_name, model in models.items():\n",
    "\n",
    "    \n",
    "    pipelines[model_name] = Pipeline([\n",
    "                ('feature_extraction', ImageFeaturesExtraction(method='pixels', image_height=img_height, image_width=img_width, convert_to_gray=True, \n",
    "                                                               filter='equalized', format='array', orientations=orientations, pixels_per_cell=pixels_per_cell, \n",
    "                                                               cells_per_block=cells_per_block, transform_sqrt=True, reshape=False, statistics=None, n_clusters=100)),\n",
    "                ('scaler', scaler(apply=False, method='standard')),\n",
    "                ('pca', pca(apply=False, n_components=5, random_state=123)),\n",
    "                (model_name, model) \n",
    "            ])"
   ]
  },
  {
   "cell_type": "markdown",
   "metadata": {},
   "source": [
    "- **Opening the inner results**"
   ]
  },
  {
   "cell_type": "code",
   "execution_count": 13,
   "metadata": {},
   "outputs": [],
   "source": [
    "with open(r'C:\\Users\\fscielzo\\Documents\\DataScience-GitHub\\Image Analysis\\Image-Classification\\Fire-Detection\\Results\\inner_score.pkl', 'rb') as file:\n",
    "    inner_score = pickle.load(file)\n",
    "with open(r'C:\\Users\\fscielzo\\Documents\\DataScience-GitHub\\Image Analysis\\Image-Classification\\Fire-Detection\\Results\\best_params.pkl', 'rb') as file:\n",
    "    best_params = pickle.load(file)\n",
    "with open(r'C:\\Users\\fscielzo\\Documents\\DataScience-GitHub\\Image Analysis\\Image-Classification\\Fire-Detection\\Results\\inner_results.pkl', 'rb') as file:\n",
    "    inner_results = pickle.load(file)"
   ]
  },
  {
   "cell_type": "markdown",
   "metadata": {},
   "source": [
    "- Formatting the results"
   ]
  },
  {
   "cell_type": "code",
   "execution_count": 14,
   "metadata": {},
   "outputs": [],
   "source": [
    "inner_score_values = np.array(list(inner_score.values()))\n",
    "pipeline_names = list(inner_score.keys())\n",
    "best_pipeline = pipeline_names[np.argmax(inner_score_values)]\n",
    "best_model = best_pipeline.split('-')[0]"
   ]
  },
  {
   "cell_type": "markdown",
   "metadata": {},
   "source": [
    "- Estimation of future performance based on the testing partition:"
   ]
  },
  {
   "cell_type": "code",
   "execution_count": null,
   "metadata": {},
   "outputs": [],
   "source": [
    "best_pipeline_estimator = pipelines[best_model].set_params(**best_params[best_pipeline])\n",
    "best_pipeline_estimator.fit(X=X_train, y=Y_train)\n",
    "Y_test_hat = best_pipeline_estimator.predict(X=X_test)\n",
    "future_performance_acc = accuracy_score(y_pred=Y_test_hat, y_true=Y_test)"
   ]
  },
  {
   "cell_type": "markdown",
   "metadata": {},
   "source": [
    "The estimation of future performance (accuracy) for the best pipeline is:"
   ]
  },
  {
   "cell_type": "code",
   "execution_count": 16,
   "metadata": {},
   "outputs": [
    {
     "data": {
      "text/plain": [
       "0.987"
      ]
     },
     "execution_count": 16,
     "metadata": {},
     "output_type": "execute_result"
    }
   ],
   "source": [
    "np.round(future_performance_acc, 3)"
   ]
  },
  {
   "cell_type": "markdown",
   "metadata": {},
   "source": [
    "- Confusion matrix over true classes"
   ]
  },
  {
   "cell_type": "code",
   "execution_count": 17,
   "metadata": {},
   "outputs": [
    {
     "data": {
      "image/png": "[encoded data removed]",
      "text/plain": [
       "<Figure size 500x500 with 2 Axes>"
      ]
     },
     "metadata": {},
     "output_type": "display_data"
    }
   ],
   "source": [
    "cm = confusion_matrix(y_pred=Y_test_hat, y_true=Y_test, normalize='true', labels=best_pipeline_estimator.classes_)\n",
    "# normalize='true' to normalize over the rows (true classes)\n",
    "disp = ConfusionMatrixDisplay(confusion_matrix=cm, display_labels=best_pipeline_estimator.classes_)\n",
    "\n",
    "fig, axs = plt.subplots(figsize=(5,5))\n",
    "disp.plot(ax=axs, cmap=plt.cm.Blues, values_format='.3f', text_kw={'fontsize': 12.5})\n",
    "plt.title('Confusion Matrix over true classes\\n Best pipeline', weight='bold', fontsize=12)\n",
    "axs.set_xlabel('Predicted class', size=12)\n",
    "axs.set_ylabel('True class', size=12)\n",
    "plt.xticks(fontsize=12)\n",
    "plt.yticks(fontsize=12)\n",
    "plt.grid(False)\n",
    "plt.show()"
   ]
  },
  {
   "cell_type": "markdown",
   "metadata": {},
   "source": [
    "- All the non-fire images are classified correctly\n",
    "\n",
    "- The 97.3% of the fire images are detected.\n",
    "\n",
    "Therefore, in this case:\n",
    "\n",
    "- Specificity = 100%\n",
    "\n",
    "- Sensibility/recall = 97%"
   ]
  },
  {
   "cell_type": "code",
   "execution_count": 18,
   "metadata": {},
   "outputs": [
    {
     "data": {
      "text/plain": [
       "array([0.50666667, 0.49333333])"
      ]
     },
     "execution_count": 18,
     "metadata": {},
     "output_type": "execute_result"
    }
   ],
   "source": [
    "values, counts = np.unique(Y_test, return_counts=True)\n",
    "rel_freq = counts / np.sum(counts)\n",
    "rel_freq"
   ]
  },
  {
   "cell_type": "markdown",
   "metadata": {},
   "source": [
    "The accuracy can also be computed with the specificity and sensibility as follows:"
   ]
  },
  {
   "cell_type": "code",
   "execution_count": 19,
   "metadata": {},
   "outputs": [
    {
     "data": {
      "text/plain": [
       "0.98491"
      ]
     },
     "execution_count": 19,
     "metadata": {},
     "output_type": "execute_result"
    }
   ],
   "source": [
    "1*0.5067 + 0.97*0.493"
   ]
  },
  {
   "cell_type": "markdown",
   "metadata": {},
   "source": [
    "- Confusion matrix over predicted classes"
   ]
  },
  {
   "cell_type": "code",
   "execution_count": 20,
   "metadata": {},
   "outputs": [
    {
     "data": {
      "image/png": "[encoded data removed]",
      "text/plain": [
       "<Figure size 500x500 with 2 Axes>"
      ]
     },
     "metadata": {},
     "output_type": "display_data"
    }
   ],
   "source": [
    "cm = confusion_matrix(y_pred=Y_test_hat, y_true=Y_test, normalize='pred', labels=best_pipeline_estimator.classes_)\n",
    "# normalize='true' to normalize over the rows (true classes)\n",
    "disp = ConfusionMatrixDisplay(confusion_matrix=cm, display_labels=best_pipeline_estimator.classes_)\n",
    "\n",
    "fig, axs = plt.subplots(figsize=(5,5))\n",
    "disp.plot(ax=axs, cmap=plt.cm.Blues, values_format='.3f', text_kw={'fontsize': 12.5})\n",
    "plt.title('Confusion Matrix over predicted classes\\n Best pipeline', weight='bold', fontsize=12)\n",
    "axs.set_xlabel('Predicted class', size=12)\n",
    "axs.set_ylabel('True class', size=12)\n",
    "plt.xticks(fontsize=12)\n",
    "plt.yticks(fontsize=12)\n",
    "plt.grid(False)\n",
    "plt.show()"
   ]
  },
  {
   "cell_type": "markdown",
   "metadata": {},
   "source": [
    "- The 97.4% of the predicted as non-fire images that are actually non-fire. \n",
    "\n",
    "- The 100% of the predicted as fire images are indeed fire."
   ]
  },
  {
   "cell_type": "markdown",
   "metadata": {},
   "source": [
    "Therefore, in this case:\n",
    "\n",
    "- Precision = 100%\n",
    "\n",
    "- Negative predictive value = 97.4%"
   ]
  },
  {
   "cell_type": "markdown",
   "metadata": {},
   "source": [
    "The F1-score is the armonic mean between precision and sensibility, and is an ideal metric to measure the performance of a binary classifier on the positive class (fire class in our project), and in this case is:"
   ]
  },
  {
   "cell_type": "code",
   "execution_count": 21,
   "metadata": {},
   "outputs": [
    {
     "data": {
      "text/plain": [
       "0.9863013698630138"
      ]
     },
     "execution_count": 21,
     "metadata": {},
     "output_type": "execute_result"
    }
   ],
   "source": [
    "f1_score(y_pred=Y_test_hat, y_true=Y_test)"
   ]
  },
  {
   "cell_type": "markdown",
   "metadata": {},
   "source": [
    "Summarizing, our best classifier works almost perfectly, both detecting (classifying) fire and non-fire images."
   ]
  },
  {
   "cell_type": "markdown",
   "metadata": {},
   "source": [
    "## **Saving the final pipeline**"
   ]
  },
  {
   "cell_type": "markdown",
   "metadata": {},
   "source": [
    "We save the best pipeline as a pre-trained model, using all the available dat for training it. "
   ]
  },
  {
   "cell_type": "code",
   "execution_count": null,
   "metadata": {},
   "outputs": [],
   "source": [
    "best_pipeline_estimator = pipelines[best_model].set_params(**best_params[best_pipeline])\n",
    "best_pipeline_estimator.fit(X=X, y=Y)\n",
    "# Save the model to a file\n",
    "with open(r'C:\\Users\\fscielzo\\Documents\\DataScience-GitHub\\Image Analysis\\Image-Classification\\Fire-Detection\\Results\\best_pipeline.pkl', 'wb') as file:\n",
    "    pickle.dump(best_pipeline_estimator, file)"
   ]
  }
 ],
 "metadata": {
  "kernelspec": {
   "display_name": "base",
   "language": "python",
   "name": "python3"
  },
  "language_info": {
   "codemirror_mode": {
    "name": "ipython",
    "version": 3
   },
   "file_extension": ".py",
   "mimetype": "text/x-python",
   "name": "python",
   "nbconvert_exporter": "python",
   "pygments_lexer": "ipython3",
   "version": "3.11.5"
  }
 },
 "nbformat": 4,
 "nbformat_minor": 2
}
